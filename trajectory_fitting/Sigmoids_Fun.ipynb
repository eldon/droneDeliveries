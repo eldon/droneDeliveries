{
 "cells": [
  {
   "cell_type": "code",
   "execution_count": 101,
   "metadata": {
    "collapsed": true
   },
   "outputs": [],
   "source": [
    "import numpy as np\n",
    "import matplotlib.pyplot as plt"
   ]
  },
  {
   "cell_type": "code",
   "execution_count": 102,
   "metadata": {
    "collapsed": true
   },
   "outputs": [],
   "source": [
    "x = np.arange(-10, 10)\n",
    "\n",
    "def sigmoid(x):\n",
    "    return 1 / (1 + np.exp(-x))\n",
    "\n",
    "def d_sigmoid(x):\n",
    "    return sigmoid(x) * (1 - sigmoid(x))"
   ]
  },
  {
   "cell_type": "code",
   "execution_count": 110,
   "metadata": {
    "collapsed": true
   },
   "outputs": [],
   "source": [
    "flying_altitude = 25\n",
    "delivery_altitude = 5\n",
    "descent_rate = 0.75\n",
    "distance_to_target = 30"
   ]
  },
  {
   "cell_type": "code",
   "execution_count": 123,
   "metadata": {
    "collapsed": false
   },
   "outputs": [
    {
     "data": {
      "image/png": "[encoded data removed]",
      "text/plain": [
       "<matplotlib.figure.Figure at 0x10fefd450>"
      ]
     },
     "metadata": {},
     "output_type": "display_data"
    }
   ],
   "source": [
    "steps = np.arange(distance_to_target)\n",
    "trajectory = ((flying_altitude - delivery_altitude) * sigmoid(descent_rate * (distance_to_target - steps) - 9)) + delivery_altitude\n",
    "plt.plot(steps, trajectory)\n",
    "plt.show()"
   ]
  },
  {
   "cell_type": "code",
   "execution_count": 124,
   "metadata": {
    "collapsed": false
   },
   "outputs": [
    {
     "data": {
      "text/plain": [
       "array([ 24.99997258,  24.99994195,  24.99987712,  24.99973986,\n",
       "        24.99944929,  24.99883417,  24.99753211,  24.99477619,\n",
       "        24.98894443,  24.97660979,  24.95054754,  24.89559749,\n",
       "        24.78026115,  24.5404526 ,  24.05148254,  23.0930107 ,\n",
       "        21.35148952,  18.58357398,  15.        ,  11.41642602,\n",
       "         8.64851048,   6.9069893 ,   5.94851746,   5.4595474 ,\n",
       "         5.21973885,   5.10440251,   5.04945246,   5.02339021,\n",
       "         5.01105557,   5.00522381])"
      ]
     },
     "execution_count": 124,
     "metadata": {},
     "output_type": "execute_result"
    }
   ],
   "source": [
    "trajectory"
   ]
  },
  {
   "cell_type": "markdown",
   "metadata": {},
   "source": [
    "# Here it is, the magic formula.\n",
    "\n",
    "$$\\xi = a_d + A_f \\mathrm{sigmoid}(r_d (d_t - x) - b)$$\n",
    "\n",
    "Where $A_f = a_f - a_d$.\n",
    "\n",
    "Delivery altitude $a_d$, flying altitude $a_f$, distance to target $d_t$, descent rate parameter $r_d$, buffer parameter $b$, position $x$.\n",
    "\n",
    "Setting $b$ to 9 seems to make sense."
   ]
  },
  {
   "cell_type": "code",
   "execution_count": 132,
   "metadata": {
    "collapsed": true
   },
   "outputs": [],
   "source": [
    "def get_trajectory(d_t, r_d, a_f, a_d):\n",
    "    steps = np.arange(d_t)\n",
    "    return a_d + ((a_f - a_d) * sigmoid(r_d * (d_t - steps) - 9))"
   ]
  },
  {
   "cell_type": "code",
   "execution_count": 142,
   "metadata": {
    "collapsed": false
   },
   "outputs": [
    {
     "data": {
      "image/png": "[encoded data removed]",
      "text/plain": [
       "<matplotlib.figure.Figure at 0x1113a0a50>"
      ]
     },
     "metadata": {},
     "output_type": "display_data"
    }
   ],
   "source": [
    "plt.plot(np.arange(20), get_trajectory(20, 0.75, 25, 5))\n",
    "plt.show()"
   ]
  },
  {
   "cell_type": "code",
   "execution_count": null,
   "metadata": {
    "collapsed": true
   },
   "outputs": [],
   "source": []
  }
 ],
 "metadata": {
  "anaconda-cloud": {},
  "kernelspec": {
   "display_name": "Python [conda root]",
   "language": "python",
   "name": "conda-root-py"
  },
  "language_info": {
   "codemirror_mode": {
    "name": "ipython",
    "version": 2
   },
   "file_extension": ".py",
   "mimetype": "text/x-python",
   "name": "python",
   "nbconvert_exporter": "python",
   "pygments_lexer": "ipython2",
   "version": "2.7.12"
  }
 },
 "nbformat": 4,
 "nbformat_minor": 1
}
